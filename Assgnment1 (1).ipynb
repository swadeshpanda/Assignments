{
 "cells": [
  {
   "cell_type": "markdown",
   "id": "4203de5d",
   "metadata": {},
   "source": [
    "1. In the below elements which of them are values or an expression? eg:- values can be integer or string and expressions will be mathematical operators.\n",
    "* \n",
    "'hello'- Values\n",
    "-87.8 - Values\n",
    "- \n",
    "/ \n",
    "+\t\n",
    "6 \n",
    "\n",
    "Ans - Expressions: *,-,/,+\n",
    "      Values: 'hello', -87.8, 6\n",
    "      \n",
    "2. What is the difference between string and variable?\n",
    "Ans - A string is a datatype which stores values enclosed within the quotes while variable is the name of the memory location it is used to store data . A varaible can be of any data type.\n",
    "\n",
    "3. Describe three different data types.\n",
    "Ans - The three different data types are \n",
    "\n",
    "Integers(int) – This value is represented by int class. It contains positive or negative whole numbers (without fraction or decimal). In Python there is no limit to how long an integer value can be. For example - 9\n",
    "\n",
    "Float – This value is represented by float class. It is a real number with floating point representation. It is specified by a decimal point. For example - 9.99\n",
    "\n",
    "Complex Numbers – Complex number is represented by complex class. It is specified as (real part) + (imaginary part)j. For example – 9+99j\n",
    "\n",
    "4. What is an expression made up of? What do all expressions do?\n",
    "Ans - An expression is a combination of values and operators. All expressions evaluate to a single value.\n",
    "\n",
    "5. This assignment statements, like spam = 10. What is the difference between an expression and a statement?\n",
    "Ans - An expression evaluates to a single value while a statement does not.\n",
    "\n",
    "6. After running the following code, what does the variable bacon contain?\n",
    "bacon = 22\n",
    "bacon + 1\n",
    "Ans - The variable bacon contain 22 (bacon = 22)\n",
    "\n",
    "7. What should the values of the following two terms be?\n",
    "'spam' + 'spamspam'\n",
    "'spam' * 3\n",
    "Ans -'spamspamspam' and 'spamspamspam' (both has same output)\n",
    "\n",
    "8. Why is eggs a valid variable name while 100 is invalid?\n",
    "Ans - Variable names cannot begin with a number as 100 is an number.\n",
    "\n",
    "9. What three functions can be used to get the integer, floating-point number, or string version of a value?\n",
    "Ans - The int(), float(), and str() functions will evaluate to the integer, floating-point number, and string versions of the value passed to them.\n",
    "\n",
    "10. Why does this expression cause an error? How can you fix it?\n",
    "'I have eaten ' + 99 + ' burritos.'\n",
    "Ans - The expression causes an error because 99 is an integer, and only strings can be concatenated to other strings with the + operator. The correct code can be - \"I have eaten \" + str(99) +  \"burritos.\".(here we converted the integer to string \n",
    "with the help of str keyword."
   ]
  }
 ],
 "metadata": {
  "kernelspec": {
   "display_name": "Python 3 (ipykernel)",
   "language": "python",
   "name": "python3"
  },
  "language_info": {
   "codemirror_mode": {
    "name": "ipython",
    "version": 3
   },
   "file_extension": ".py",
   "mimetype": "text/x-python",
   "name": "python",
   "nbconvert_exporter": "python",
   "pygments_lexer": "ipython3",
   "version": "3.9.7"
  }
 },
 "nbformat": 4,
 "nbformat_minor": 5
}
